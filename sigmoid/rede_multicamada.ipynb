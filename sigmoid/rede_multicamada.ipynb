{
 "cells": [
  {
   "cell_type": "code",
   "execution_count": 76,
   "metadata": {},
   "outputs": [],
   "source": [
    "import numpy as np"
   ]
  },
  {
   "cell_type": "code",
   "execution_count": 77,
   "metadata": {},
   "outputs": [],
   "source": [
    "#Não retorna valores negativos\n",
    "def sigmoid(soma):\n",
    "    return 1 / (1 + np.exp(-soma))"
   ]
  },
  {
   "cell_type": "code",
   "execution_count": 78,
   "metadata": {},
   "outputs": [],
   "source": [
    "# Sigmoide com derivada\n",
    "def sigmoidDerivada(sig):\n",
    "    return sig * (1 - sig)"
   ]
  },
  {
   "cell_type": "code",
   "execution_count": null,
   "metadata": {},
   "outputs": [],
   "source": [
    "entradas = np.array(\n",
    "    [\n",
    "        [0, 0],\n",
    "        [0, 1],\n",
    "        [1, 0],\n",
    "        [1, 1],\n",
    "    ],\n",
    ")\n",
    "\n",
    "\n",
    "saidas = np.array(\n",
    "    [\n",
    "        [0],\n",
    "        [1],\n",
    "        [1],\n",
    "        [0],\n",
    "    ],\n",
    ")\n",
    "# pesos da camada de entrada\n",
    "# peso0 = np.array([[-0.424, -0.740, -0.961], [0.358, -0.577, -0.469]])\n",
    "# pesos randomicos da camada de entrada\n",
    "peso0 = 2* np.random.random(2, 3)-1\n",
    "# pesos da camada oculta\n",
    "# peso1 = np.array([[-0.017], [-0.893], [0.148]])\n",
    "# pesos randomicos da camada oculta\n",
    "peso1 = 2* np.random.random(3, 1)-1"
   ]
  },
  {
   "cell_type": "code",
   "execution_count": 74,
   "metadata": {},
   "outputs": [],
   "source": [
    "epocas = 1000000\n",
    "taxaAprendizagem = 0.6\n",
    "momento = 1\n"
   ]
  },
  {
   "cell_type": "code",
   "execution_count": 75,
   "metadata": {},
   "outputs": [
    {
     "name": "stdout",
     "output_type": "stream",
     "text": [
      "Erro: 0.002344346815762123\n",
      "Saida: [[4.06243523e-03]\n",
      " [9.97571821e-01]\n",
      " [9.97571894e-01]\n",
      " [4.58667311e-04]]\n"
     ]
    }
   ],
   "source": [
    "#Treinamento\n",
    "for j in range(epocas):\n",
    "    camadaEntrada = entradas\n",
    "    somaSinapse0 = np.dot(camadaEntrada, peso0)\n",
    "    camadaOculta = sigmoid(somaSinapse0)\n",
    "\n",
    "    somaSinapse1 = np.dot(camadaOculta, peso1)\n",
    "    camadaSaida = sigmoid(somaSinapse1)\n",
    "    \n",
    "    # Calculo do erro\n",
    "    erroCamadaSaida = saidas - camadaSaida\n",
    "\n",
    "    #Calculo da media\n",
    "    mediaAbsoluta = np.mean(np.abs(erroCamadaSaida))\n",
    "    if(j ==999999):\n",
    "        print(f\"Erro: {mediaAbsoluta}\")\n",
    "  \n",
    "    # Calculo da derivada\n",
    "    derivadaSaida = sigmoidDerivada(camadaSaida)\n",
    "\n",
    "    # Calculo do delta\n",
    "    deltaSaida = erroCamadaSaida * derivadaSaida  \n",
    "\n",
    "    #Calculando delta da camada oculta\n",
    "    peso1Transposto = peso1.T\n",
    "    deltaSaidaXPeso = deltaSaida.dot(peso1Transposto)\n",
    "    deltaCamadaOculta = deltaSaidaXPeso * sigmoidDerivada(camadaOculta)  \n",
    "\n",
    "    #Backpropagation - Atualização dos pesos da camada oculta\n",
    "    camadaOcultaTransposta = camadaOculta.T\n",
    "    pesoNovo1 = camadaOcultaTransposta.dot(deltaSaida)\n",
    "    peso1 = peso1 * momento + (pesoNovo1 * taxaAprendizagem)\n",
    "\n",
    "    #Backpropagation - Atualização dos pesos da camada de entrada\n",
    "    camadaEntradaTransposta = camadaEntrada.T\n",
    "    pesoNovo0 = camadaEntradaTransposta.dot(deltaCamadaOculta)\n",
    "    peso0 = peso0 * momento + (pesoNovo0 * taxaAprendizagem)\n",
    " \n",
    "print(f\"Saida: {camadaSaida}\")"
   ]
  }
 ],
 "metadata": {
  "kernelspec": {
   "display_name": "redes_neurais",
   "language": "python",
   "name": "python3"
  },
  "language_info": {
   "codemirror_mode": {
    "name": "ipython",
    "version": 3
   },
   "file_extension": ".py",
   "mimetype": "text/x-python",
   "name": "python",
   "nbconvert_exporter": "python",
   "pygments_lexer": "ipython3",
   "version": "3.12.5"
  }
 },
 "nbformat": 4,
 "nbformat_minor": 2
}
