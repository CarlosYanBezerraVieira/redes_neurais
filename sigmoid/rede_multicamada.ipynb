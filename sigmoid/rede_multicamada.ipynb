{
 "cells": [
  {
   "cell_type": "code",
   "execution_count": 2,
   "metadata": {},
   "outputs": [],
   "source": [
    "import numpy as np"
   ]
  },
  {
   "cell_type": "code",
   "execution_count": 3,
   "metadata": {},
   "outputs": [],
   "source": [
    "#Não retorna valores negativos\n",
    "def sigmoid(soma):\n",
    "    return 1 / (1 + np.exp(-soma))"
   ]
  },
  {
   "cell_type": "code",
   "execution_count": 4,
   "metadata": {},
   "outputs": [],
   "source": [
    "entradas = np.array(\n",
    "    [\n",
    "        [0, 0],\n",
    "        [0, 1],\n",
    "        [1, 0],\n",
    "        [1, 1],\n",
    "    ],\n",
    ")\n",
    "\n",
    "\n",
    "saidas = np.array(\n",
    "    [\n",
    "        [0],\n",
    "        [1],\n",
    "        [1],\n",
    "        [0],\n",
    "    ],\n",
    ")\n",
    "\n",
    "peso0 = (\n",
    "    np.array(\n",
    "        [\n",
    "            [-0.424, -0.740, -0.961],\n",
    "            [0.358, -0.577, -0.469],\n",
    "        ]\n",
    "    ),\n",
    ")  # pesos da camada de entrada\n",
    "\n",
    "peso1 = (\n",
    "    np.array(\n",
    "        [\n",
    "            [-0.017],\n",
    "            [-0.893],\n",
    "            [0.148],\n",
    "        ],\n",
    "    ),\n",
    ")  # pesos da camada oculta"
   ]
  },
  {
   "cell_type": "code",
   "execution_count": 5,
   "metadata": {},
   "outputs": [],
   "source": [
    "epocas = 100\n"
   ]
  },
  {
   "cell_type": "code",
   "execution_count": 6,
   "metadata": {},
   "outputs": [
    {
     "name": "stdout",
     "output_type": "stream",
     "text": [
      "camadaOculta: [[[[0.40588573]]]\n",
      "\n",
      "\n",
      " [[[0.43187857]]]\n",
      "\n",
      "\n",
      " [[[0.43678536]]]\n",
      "\n",
      "\n",
      " [[[0.45801216]]]]\n"
     ]
    }
   ],
   "source": [
    "for j in range(1):\n",
    "    camadaEntrada = entradas\n",
    "    somaSinapse0 = np.dot(camadaEntrada, peso0)\n",
    "    camadaOculta = sigmoid(somaSinapse0)\n",
    "\n",
    "    somaSinapse1 = np.dot(camadaOculta, peso1)\n",
    "    camadaSaida = sigmoid(somaSinapse1)\n",
    "    print(f\"camadaOculta: {camadaSaida}\")"
   ]
  }
 ],
 "metadata": {
  "kernelspec": {
   "display_name": "redes_neurais",
   "language": "python",
   "name": "python3"
  },
  "language_info": {
   "codemirror_mode": {
    "name": "ipython",
    "version": 3
   },
   "file_extension": ".py",
   "mimetype": "text/x-python",
   "name": "python",
   "nbconvert_exporter": "python",
   "pygments_lexer": "ipython3",
   "version": "3.12.5"
  }
 },
 "nbformat": 4,
 "nbformat_minor": 2
}
