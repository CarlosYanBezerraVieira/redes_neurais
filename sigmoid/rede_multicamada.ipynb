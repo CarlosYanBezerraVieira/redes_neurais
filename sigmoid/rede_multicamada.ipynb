{
 "cells": [
  {
   "cell_type": "code",
   "execution_count": 11,
   "metadata": {},
   "outputs": [],
   "source": [
    "import numpy as np"
   ]
  },
  {
   "cell_type": "code",
   "execution_count": 12,
   "metadata": {},
   "outputs": [],
   "source": [
    "#Não retorna valores negativos\n",
    "def sigmoid(soma):\n",
    "    return 1 / (1 + np.exp(-soma))"
   ]
  },
  {
   "cell_type": "code",
   "execution_count": 13,
   "metadata": {},
   "outputs": [],
   "source": [
    "# Sigmoide com derivada\n",
    "def sigmoidDerivada(sig):\n",
    "    return sig * (1 - sig)"
   ]
  },
  {
   "cell_type": "code",
   "execution_count": 14,
   "metadata": {},
   "outputs": [],
   "source": [
    "entradas = np.array(\n",
    "    [\n",
    "        [0, 0],\n",
    "        [0, 1],\n",
    "        [1, 0],\n",
    "        [1, 1],\n",
    "    ],\n",
    ")\n",
    "\n",
    "\n",
    "saidas = np.array(\n",
    "    [\n",
    "        [0],\n",
    "        [1],\n",
    "        [1],\n",
    "        [0],\n",
    "    ],\n",
    ")\n",
    "# pesos da camada de entrada\n",
    "peso0 = np.array([[-0.424, -0.740, -0.961], [0.358, -0.577, -0.469]])\n",
    "\n",
    "# pesos da camada oculta\n",
    "peso1 = np.array([[-0.017], [-0.893], [0.148]])"
   ]
  },
  {
   "cell_type": "code",
   "execution_count": 15,
   "metadata": {},
   "outputs": [],
   "source": [
    "epocas = 100\n",
    "taxaAprendizagem = 0.3\n",
    "momento = 1\n"
   ]
  },
  {
   "cell_type": "code",
   "execution_count": 16,
   "metadata": {},
   "outputs": [],
   "source": [
    "#Treinamento\n",
    "for j in range(1):\n",
    "    camadaEntrada = entradas\n",
    "    somaSinapse0 = np.dot(camadaEntrada, peso0)\n",
    "    camadaOculta = sigmoid(somaSinapse0)\n",
    "\n",
    "    somaSinapse1 = np.dot(camadaOculta, peso1)\n",
    "    camadaSaida = sigmoid(somaSinapse1)\n",
    "    \n",
    "\n",
    "  "
   ]
  },
  {
   "cell_type": "code",
   "execution_count": 17,
   "metadata": {},
   "outputs": [
    {
     "name": "stdout",
     "output_type": "stream",
     "text": [
      "camadaOculta: 0.49880848923713045\n"
     ]
    }
   ],
   "source": [
    "# Calculo do erro\n",
    "erroCamadaSaida = saidas - camadaSaida\n",
    "\n",
    "#Calculo da media\n",
    "mediaAbsoluta = np.mean(np.abs(erroCamadaSaida))\n",
    "print(f\"camadaOculta: {mediaAbsoluta}\")"
   ]
  },
  {
   "cell_type": "code",
   "execution_count": 18,
   "metadata": {},
   "outputs": [],
   "source": [
    "# Calculo da derivada\n",
    "derivadaSaida = sigmoidDerivada(camadaSaida)\n",
    "\n",
    "# Calculo do delta\n",
    "deltaSaida = erroCamadaSaida * derivadaSaida"
   ]
  },
  {
   "cell_type": "code",
   "execution_count": 19,
   "metadata": {},
   "outputs": [],
   "source": [
    "#Calculando delta da camada oculta\n",
    "peso1Transposto = peso1.T\n",
    "deltaSaidaXPeso = deltaSaida.dot(peso1Transposto)\n",
    "deltaCamadaOculta = deltaSaidaXPeso * sigmoidDerivada(camadaOculta)"
   ]
  },
  {
   "cell_type": "code",
   "execution_count": 21,
   "metadata": {},
   "outputs": [
    {
     "name": "stdout",
     "output_type": "stream",
     "text": [
      "peso1: [[-0.00711903]\n",
      " [-0.88642447]\n",
      " [ 0.15432644]]\n"
     ]
    }
   ],
   "source": [
    "#Backpropagation - Atualização dos pesos da camada oculta\n",
    "camadaOcultaTransposta = camadaOculta.T\n",
    "pesoNovo1 = camadaOcultaTransposta.dot(deltaSaida)\n",
    "peso1 = peso1 * momento + (pesoNovo1 * taxaAprendizagem)\n",
    "print(f\"peso1: {peso1}\")\n"
   ]
  }
 ],
 "metadata": {
  "kernelspec": {
   "display_name": "redes_neurais",
   "language": "python",
   "name": "python3"
  },
  "language_info": {
   "codemirror_mode": {
    "name": "ipython",
    "version": 3
   },
   "file_extension": ".py",
   "mimetype": "text/x-python",
   "name": "python",
   "nbconvert_exporter": "python",
   "pygments_lexer": "ipython3",
   "version": "3.12.5"
  }
 },
 "nbformat": 4,
 "nbformat_minor": 2
}
