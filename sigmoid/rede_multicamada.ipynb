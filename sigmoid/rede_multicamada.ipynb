{
 "cells": [
  {
   "cell_type": "code",
   "execution_count": 60,
   "metadata": {},
   "outputs": [],
   "source": [
    "import numpy as np"
   ]
  },
  {
   "cell_type": "code",
   "execution_count": 61,
   "metadata": {},
   "outputs": [],
   "source": [
    "#Não retorna valores negativos\n",
    "def sigmoid(soma):\n",
    "    return 1 / (1 + np.exp(-soma))"
   ]
  },
  {
   "cell_type": "code",
   "execution_count": 62,
   "metadata": {},
   "outputs": [],
   "source": [
    "# Sigmoide com derivada\n",
    "def sigmoidDerivada(sig):\n",
    "    return sig * (1 - sig)"
   ]
  },
  {
   "cell_type": "code",
   "execution_count": 63,
   "metadata": {},
   "outputs": [],
   "source": [
    "entradas = np.array(\n",
    "    [\n",
    "        [0, 0],\n",
    "        [0, 1],\n",
    "        [1, 0],\n",
    "        [1, 1],\n",
    "    ],\n",
    ")\n",
    "\n",
    "\n",
    "saidas = np.array(\n",
    "    [\n",
    "        [0],\n",
    "        [1],\n",
    "        [1],\n",
    "        [0],\n",
    "    ],\n",
    ")\n",
    "# pesos da camada de entrada\n",
    "peso0 = np.array([[-0.424, -0.740, -0.961], [0.358, -0.577, -0.469]])\n",
    "\n",
    "# pesos da camada oculta\n",
    "peso1 = np.array([[-0.017], [-0.893], [0.148]])"
   ]
  },
  {
   "cell_type": "code",
   "execution_count": 64,
   "metadata": {},
   "outputs": [],
   "source": [
    "epocas = 100\n"
   ]
  },
  {
   "cell_type": "code",
   "execution_count": 65,
   "metadata": {},
   "outputs": [],
   "source": [
    "#Treinamento\n",
    "for j in range(1):\n",
    "    camadaEntrada = entradas\n",
    "    somaSinapse0 = np.dot(camadaEntrada, peso0)\n",
    "    camadaOculta = sigmoid(somaSinapse0)\n",
    "\n",
    "    somaSinapse1 = np.dot(camadaOculta, peso1)\n",
    "    camadaSaida = sigmoid(somaSinapse1)\n",
    "    \n",
    "\n",
    "  "
   ]
  },
  {
   "cell_type": "code",
   "execution_count": 66,
   "metadata": {},
   "outputs": [
    {
     "name": "stdout",
     "output_type": "stream",
     "text": [
      "camadaOculta: 0.49880848923713045\n"
     ]
    }
   ],
   "source": [
    "# Calculo do erro\n",
    "erroCamadaSaida = saidas - camadaSaida\n",
    "\n",
    "#Calculo da media\n",
    "mediaAbsoluta = np.mean(np.abs(erroCamadaSaida))\n",
    "print(f\"camadaOculta: {mediaAbsoluta}\")"
   ]
  },
  {
   "cell_type": "code",
   "execution_count": null,
   "metadata": {},
   "outputs": [],
   "source": [
    "# Calculo da derivada\n",
    "derivadaSaida = sigmoidDerivada(camadaSaida)\n",
    "\n",
    "# Calculo do delta\n",
    "deltaSaida = erroCamadaSaida * derivadaSaida\n",
    "print(f\"deltaSaida: {deltaSaida}\")"
   ]
  }
 ],
 "metadata": {
  "kernelspec": {
   "display_name": "redes_neurais",
   "language": "python",
   "name": "python3"
  },
  "language_info": {
   "codemirror_mode": {
    "name": "ipython",
    "version": 3
   },
   "file_extension": ".py",
   "mimetype": "text/x-python",
   "name": "python",
   "nbconvert_exporter": "python",
   "pygments_lexer": "ipython3",
   "version": "3.12.5"
  }
 },
 "nbformat": 4,
 "nbformat_minor": 2
}
