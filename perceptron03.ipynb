{
 "cells": [
  {
   "cell_type": "code",
   "execution_count": 1,
   "metadata": {},
   "outputs": [
    {
     "name": "stdout",
     "output_type": "stream",
     "text": [
      "1\n"
     ]
    }
   ],
   "source": [
    "# Operação and\n",
    "import numpy as np\n",
    "\n",
    "entradas = np.array([0, 0], [0, 1], [1, 0], [1, 1])\n",
    "saidas = np.array([0, 0, 0, 1])\n",
    "pesos = np.array([0.0, 0.0])\n",
    "taxaAprendizagem = 0.1\n",
    "\n",
    "\n",
    "def stepFunction(soma):\n",
    "    if soma > 1:\n",
    "        return 1\n",
    "    return 0\n",
    "\n",
    "def calculaSaida(registro):\n",
    "    s = registro.dot(pesos)\n",
    "    return stepFunction(s)\n",
    "\n",
    "\n",
    "def treinar():\n",
    "    return 0\n",
    "\n"
   ]
  }
 ],
 "metadata": {
  "kernelspec": {
   "display_name": "redes_neurais",
   "language": "python",
   "name": "python3"
  },
  "language_info": {
   "codemirror_mode": {
    "name": "ipython",
    "version": 3
   },
   "file_extension": ".py",
   "mimetype": "text/x-python",
   "name": "python",
   "nbconvert_exporter": "python",
   "pygments_lexer": "ipython3",
   "version": "3.12.5"
  }
 },
 "nbformat": 4,
 "nbformat_minor": 2
}
