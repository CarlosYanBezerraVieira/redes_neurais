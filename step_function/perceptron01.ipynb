{
 "cells": [
  {
   "cell_type": "code",
   "execution_count": 8,
   "metadata": {},
   "outputs": [
    {
     "name": "stdout",
     "output_type": "stream",
     "text": [
      "0\n"
     ]
    }
   ],
   "source": [
    "# Perceptron de uma camada\n",
    "entradas = [-1, 7, 5]\n",
    "pesos = [0.8, 0.1, 0]\n",
    "\n",
    "def soma (e,p):\n",
    "    s = 0\n",
    "    for i in range(3):\n",
    "        # print(entradas[i])\n",
    "        # print(pesos[i])\n",
    "        s += e[i] * p[i]\n",
    "    return s   \n",
    "s = soma(entradas, pesos)\n",
    "def stepFunction(soma):\n",
    "    if soma > 1:\n",
    "        return 1\n",
    "    return 0\n",
    "\n",
    "r =stepFunction(s)\n",
    "print(r)"
   ]
  }
 ],
 "metadata": {
  "kernelspec": {
   "display_name": "redes_neurais",
   "language": "python",
   "name": "python3"
  },
  "language_info": {
   "codemirror_mode": {
    "name": "ipython",
    "version": 3
   },
   "file_extension": ".py",
   "mimetype": "text/x-python",
   "name": "python",
   "nbconvert_exporter": "python",
   "pygments_lexer": "ipython3",
   "version": "3.12.5"
  }
 },
 "nbformat": 4,
 "nbformat_minor": 2
}
