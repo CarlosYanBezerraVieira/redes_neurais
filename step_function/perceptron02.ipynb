{
 "cells": [
  {
   "cell_type": "code",
   "execution_count": 7,
   "metadata": {},
   "outputs": [
    {
     "name": "stdout",
     "output_type": "stream",
     "text": [
      "1\n"
     ]
    }
   ],
   "source": [
    "# Perceptron de uma camada com numpy\n",
    "import numpy as np\n",
    "\n",
    "entradas = np.array([1, 7, 5])\n",
    "pesos = np.array([0.8, 0.1, 0])\n",
    "\n",
    "def soma (e,p):\n",
    "    return e.dot(p)\n",
    "    #dot product / produto escalar  \n",
    "\n",
    "s = soma(entradas, pesos)\n",
    "def stepFunction(soma):\n",
    "    if soma > 1:\n",
    "        return 1\n",
    "    return 0\n",
    "\n",
    "r =stepFunction(s)\n",
    "print(r)\n",
    "\n"
   ]
  }
 ],
 "metadata": {
  "kernelspec": {
   "display_name": "redes_neurais",
   "language": "python",
   "name": "python3"
  },
  "language_info": {
   "codemirror_mode": {
    "name": "ipython",
    "version": 3
   },
   "file_extension": ".py",
   "mimetype": "text/x-python",
   "name": "python",
   "nbconvert_exporter": "python",
   "pygments_lexer": "ipython3",
   "version": "3.12.5"
  }
 },
 "nbformat": 4,
 "nbformat_minor": 2
}
